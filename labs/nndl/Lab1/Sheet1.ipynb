{
 "cells": [
  {
   "cell_type": "markdown",
   "metadata": {},
   "source": [
    "# Important Information\n",
    "\n",
    "This file has one usage.\n",
    "1. This file can be displayed in Jupyter. You can read the task and insert your answers here. Start the notebook from an Anaconda prompt and change to the working directory containing the *.ipynb file.\n",
    "\n",
    "**For submission**, upload a pdf based on this jupyter notebook. The recommended way is opening the Print Preview (File -> Print Preview) and using a PDF printer. Avoid to generate too large cells: If a cell contains more content than which fits on a normal DIN A4 page, the content will be cut during  printing. A solution to this is to split up the cell into several smaller cells."
   ]
  },
  {
   "cell_type": "markdown",
   "metadata": {},
   "source": [
    "# Exercise 1 (Structure of a neuron)\n",
    "\n",
    "Name the basic elements of a biological neuron in a neural network and briefly summarize the\n",
    "functional role of each element."
   ]
  },
  {
   "cell_type": "markdown",
   "metadata": {},
   "source": [
    "There are 4 basic elements of biological neuron in a neural network.\n",
    "\n",
<<<<<<< Updated upstream
    "The basic elements are:\n"
=======
    "1. **Cell body with nucleus (Soma)** : Neurons, like other cells, have cell body (call the **Soma**). The nucleus of the neuron found in the soma. Neurons need a lot of protein, and most neuronal proteins are synthesized in the soma as well. Various processes extend from the cell body. These include many short, branching processes know as Dendrites, a separate process that is typically larger than dendrites, known as the axon.\n",
    "\n",
    "2. **Dendrites/ Denritic tree**: The first two neuronal functions,receiveing and processing incoming informations, generally take place in the dendrites and cell body. Incoming signal can be either *exicitatory* - which means they tend to make the neuron fire (generate and electric pulse) - or *inhibitory* - which means that they tend to keep the neurons from firing.\n",
    "\n",
    "  Most neurons recieve many input signal throughout their dendritic trees. A single neuron may have more than one set of dendrites, and may receive many thousands of input signals. Whether or not a neuron is excited into firing an impulse depends on sum of all *exitatory* and *inhibitory* signals it receives. \n",
    "\n",
    "3. **One Axon with myelin sheath:** Axon arises from the cell body at a specialized area called the axion hillock. Many axons are covered with special insulating substance called *myelin*, which helps them convey the nerve impulse rapidly. Towarads its end, the axon splits up into many branches and develops bulbous swellings known as *axon terminals*(nerve terminals). These terminals make connection with target cells.\n",
    "\n",
    "4. **Synapses**: Neoron-to-Neuron connections are made onto the dendrites and cell body of other neurons. These connections are called **Synapses**. The first neuron from which the informations are carried called **presynaptic neuron** and the target neurons are called **postsynaptic neuron**. At most synapses and junctions, information is transmitted in the form of chemical messangers called **neurotransmitters**. A single neuron may receive inputs from many presynaptic neurons, it may also make synaptic connections on numerous postsynaptic neurons via different axon terminals.\n"
>>>>>>> Stashed changes
   ]
  },
  {
   "cell_type": "markdown",
   "metadata": {},
   "source": [
    "# Exercise 2 (Type of signal transmission in neuronal components)\n",
    "\n",
    "Name the type of signal transmission (electrical, chemical, wireless, …) at the axon, the synapses and the dendrites. Indicate whether it is a binary or an analog event. Explain your choice.\n"
   ]
  },
  {
   "cell_type": "markdown",
   "metadata": {},
   "source": [
    "### Answer\n",
    "\n",
    "Write your answer here.\n"
   ]
  },
  {
   "cell_type": "markdown",
   "metadata": {},
   "source": [
    "# Exercise 3 (Neural codes)\n",
    "\n",
    "What is the basic neuronal \"event\" of a neuron to \"communicate\" to other neurons? What are the basic neural codes to represent \"meaningful information\"? Give a brief explanation of the neural codes.\n",
    "\n"
   ]
  },
  {
   "cell_type": "markdown",
   "metadata": {},
   "source": [
    "### Answer\n",
    "\n",
    "Write your answer here.\n"
   ]
  },
  {
   "cell_type": "markdown",
   "metadata": {},
   "source": [
    "# Exercise 4 (Neuron models and neuron properties)\n",
    "\n",
    "a) Name the neuron models mentioned in the lecture in the order of descending model complexity (from complex to simple).  Briefly summarize their main characteristics.\n"
   ]
  },
  {
   "cell_type": "markdown",
   "metadata": {},
   "source": [
    "### Answer\n",
    "\n",
    "Write your answer here.\n"
   ]
  },
  {
   "cell_type": "markdown",
   "metadata": {},
   "source": [
    "b) Explain the following terms characterizing the behavior of a neuron:\n",
    "* Absolute refractory period\n",
    "* Relative refractory period\n",
    "* Gain function\n",
    "* Interspike interval distribution\n"
   ]
  },
  {
   "cell_type": "markdown",
   "metadata": {},
   "source": [
    "### Answer\n",
    "\n",
    "Write your answer here.\n"
   ]
  }
 ],
 "metadata": {
  "kernelspec": {
   "display_name": "Python 3",
   "language": "python",
   "name": "python3"
  },
  "language_info": {
   "codemirror_mode": {
    "name": "ipython",
    "version": 3
   },
   "file_extension": ".py",
   "mimetype": "text/x-python",
   "name": "python",
   "nbconvert_exporter": "python",
   "pygments_lexer": "ipython3",
   "version": "2.7.17-final"
  }
 },
 "nbformat": 4,
 "nbformat_minor": 2
}