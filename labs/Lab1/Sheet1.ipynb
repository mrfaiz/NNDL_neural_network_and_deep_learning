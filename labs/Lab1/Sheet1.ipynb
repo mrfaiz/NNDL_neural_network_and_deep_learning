{
 "cells": [
  {
   "cell_type": "markdown",
   "metadata": {},
   "source": [
    "# Important Information\n",
    "\n",
    "This file has one usage.\n",
    "1. This file can be displayed in Jupyter. You can read the task and insert your answers here. Start the notebook from an Anaconda prompt and change to the working directory containing the *.ipynb file.\n",
    "\n",
    "**For submission**, upload a pdf based on this jupyter notebook. The recommended way is opening the Print Preview (File -> Print Preview) and using a PDF printer. Avoid to generate too large cells: If a cell contains more content than which fits on a normal DIN A4 page, the content will be cut during  printing. A solution to this is to split up the cell into several smaller cells."
   ]
  },
  {
   "cell_type": "markdown",
   "metadata": {},
   "source": [
    "# Exercise 1 (Structure of a neuron)\n",
    "\n",
    "Name the basic elements of a biological neuron in a neural network and briefly summarize the\n",
    "functional role of each element."
   ]
  },
  {
   "cell_type": "markdown",
   "metadata": {},
   "source": [
    "### Answer\n",
    "\n",
    "The basic elements are:\n"
   ]
  },
  {
   "cell_type": "markdown",
   "metadata": {},
   "source": [
    "# Exercise 2 (Type of signal transmission in neuronal components)\n",
    "\n",
    "Name the type of signal transmission (electrical, chemical, wireless, …) at the axon, the synapses and the dendrites. Indicate whether it is a binary or an analog event. Explain your choice.\n"
   ]
  },
  {
   "cell_type": "markdown",
   "metadata": {},
   "source": [
    "### Answer\n",
    "\n",
    "Write your answer here.\n"
   ]
  },
  {
   "cell_type": "markdown",
   "metadata": {},
   "source": [
    "# Exercise 3 (Neural codes)\n",
    "\n",
    "What is the basic neuronal \"event\" of a neuron to \"communicate\" to other neurons? What are the basic neural codes to represent \"meaningful information\"? Give a brief explanation of the neural codes.\n",
    "\n"
   ]
  },
  {
   "cell_type": "markdown",
   "metadata": {},
   "source": [
    "### Answer\n",
    "\n",
    "Write your answer here.\n"
   ]
  },
  {
   "cell_type": "markdown",
   "metadata": {},
   "source": [
    "# Exercise 4 (Neuron models and neuron properties)\n",
    "\n",
    "a) Name the neuron models mentioned in the lecture in the order of descending model complexity (from complex to simple).  Briefly summarize their main characteristics.\n"
   ]
  },
  {
   "cell_type": "markdown",
   "metadata": {},
   "source": [
    "### Answer\n",
    "\n",
    "Write your answer here.\n"
   ]
  },
  {
   "cell_type": "markdown",
   "metadata": {},
   "source": [
    "b) Explain the following terms characterizing the behavior of a neuron:\n",
    "* Absolute refractory period\n",
    "* Relative refractory period\n",
    "* Gain function\n",
    "* Interspike interval distribution\n"
   ]
  },
  {
   "cell_type": "markdown",
   "metadata": {},
   "source": [
    "### Answer\n",
    "\n",
    "Write your answer here.\n"
   ]
  }
 ],
 "metadata": {
  "kernelspec": {
   "display_name": "Python 3",
   "language": "python",
   "name": "python3"
  },
  "language_info": {
   "codemirror_mode": {
    "name": "ipython",
    "version": 3
   },
   "file_extension": ".py",
   "mimetype": "text/x-python",
   "name": "python",
   "nbconvert_exporter": "python",
   "pygments_lexer": "ipython3",
   "version": "3.6.2"
  }
 },
 "nbformat": 4,
 "nbformat_minor": 2
}
